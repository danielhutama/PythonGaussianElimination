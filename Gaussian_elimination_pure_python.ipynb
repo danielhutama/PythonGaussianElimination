{
 "cells": [
  {
   "cell_type": "code",
   "execution_count": 9,
   "metadata": {},
   "outputs": [],
   "source": [
    "# This file contains pure python code to perform Gaussian elimination \n",
    "# and matrix inversion (if matrix is non-singular).\n",
    "# Inputs should be nested pure python lists (not arrays).\n",
    "\n",
    "A = [[4, 12, -16], # test non-singular matrix\n",
    "     [12, 37, -43],\n",
    "     [-16, -43, 98]]\n",
    " \n",
    "SM = [[1, 1, 1], # test singular matrix\n",
    "      [1, 1, 1],\n",
    "      [1, 1, 1]]\n",
    "\n",
    "I = [[1, 0, 0], #test identity matrix\n",
    "     [0, 1, 0], \n",
    "     [0, 0, 1]]\n"
   ]
  },
  {
   "cell_type": "code",
   "execution_count": 5,
   "metadata": {},
   "outputs": [],
   "source": [
    "# function to get the dimensions of a matrix as a tuple\n",
    "def get_dim(M):\n",
    "    rows = len(M)\n",
    "    cols = len(M[0])\n",
    "    return (rows, cols)\n",
    "\n",
    "# function to transpose a matrix/vector\n",
    "def transpose(M):\n",
    "    return [[M[row][col] for row in range(get_dim(M)[0]) ] for col in range(get_dim(M)[1])]\n",
    "\n",
    "def mmult(M1,M2):\n",
    "    zip_M2 = zip(*M2)\n",
    "    zip_M2 = list(zip_M2)\n",
    "    return [[sum(ele_M1*ele_M2 for ele_M1, ele_M2 in zip(row_M1, col_M2)) \n",
    "             for col_M2 in zip_M2] for row_M1 in M1]\n",
    "\n",
    "def madd(M1, M2): # function to add two matrices of same dimension\n",
    "    rows_M1 = get_dim(M1)[0]\n",
    "    cols_M1 = get_dim(M1)[1]\n",
    "    rows_M2 = get_dim(M2)[0]\n",
    "    cols_M2 = get_dim(M2)[1]\n",
    "    if rows_M1 != rows_M2 or cols_M1 != cols_M2:\n",
    "        return print(\"Matrices not of same dimension.\")\n",
    "    else:\n",
    "    # initialize matrix\n",
    "        output = [[0.0] * cols_M1 for _ in range(rows_M1)]\n",
    "        for i in range(rows_M1):\n",
    "            for j in range(cols_M1):\n",
    "                output[i][j] = M1[i][j] + M2[i][j]\n",
    "        return output\n",
    "\n",
    "\n",
    "# function to multiply a matrix by a scalar\n",
    "def smult(M, s):\n",
    "    rows = get_dim(M)[0]\n",
    "    cols = get_dim(M)[1]\n",
    "    # initialize matrix \n",
    "    empty = [[0.0] * cols for _ in range(rows)]\n",
    "    for i in range(rows):\n",
    "        for j in range(cols):\n",
    "            empty[i][j] = M[i][j]*s\n",
    "    return empty\n",
    "\n",
    "\n",
    "# function that clones a matrix/vector to avoid problems with python mutables\n",
    "def clone(M):\n",
    "    return [[M[row][col] for col in range(get_dim(M)[1]) ] for row in range(get_dim(M)[0])]\n",
    "\n",
    "def Gauss_elim(M, full = False): ## use clone(M) to avoid problem with mutables\n",
    "    row = get_dim(M)[0]\n",
    "    col = get_dim(M)[1]\n",
    "    # local function to swap two rows\n",
    "    def swap(list, pos1, pos2): \n",
    "        list[pos1], list[pos2] = list[pos2], list[pos1] \n",
    "        return list\n",
    "    # local function to find index of first non-zero in a row\n",
    "    def first_nonzero_index(mylist):\n",
    "        for index, number in enumerate(mylist):\n",
    "            if abs(number)+0 != 0:\n",
    "                return index\n",
    "    if row != col:\n",
    "        return(print('Matrix is not square -- not invertible'))\n",
    "    else:\n",
    "        # initialize inverse\n",
    "        Inv = [[0.0] * len(M) for _ in range(len(M))]\n",
    "        for q in range(row):\n",
    "            Inv[q][q] = 1.0\n",
    "        Id = clone(Inv)\n",
    "        if full==True:\n",
    "            print(M)\n",
    "        numsteps = round(row*(row+1)/2)+1\n",
    "        for step in range(0, numsteps):\n",
    "            if full==True:\n",
    "                print('Step {}'.format(step+1))\n",
    "        # divide first row by pivot\n",
    "            anchor = round(M[0][first_nonzero_index(M[0])],10)\n",
    "            for j in range(col):\n",
    "                # rounding for floating point error mitigation\n",
    "                M[0][j] = round(M[0][j]/anchor, 7)\n",
    "                Inv[0][j] = round(Inv[0][j]/anchor, 7)\n",
    "            if full==True:\n",
    "                print(M)\n",
    "        # set first non-zero element of following rows to 0\n",
    "            for i in range(1, row):\n",
    "                # rounding for floating point error mitigation\n",
    "                pivot = round(M[i][first_nonzero_index(M[0])], 10)\n",
    "                for j in range(col):\n",
    "                    M[i][j] = round(M[i][j] - pivot*M[0][j], 7)\n",
    "                    Inv[i][j] = round(Inv[i][j] - pivot*Inv[0][j], 7)\n",
    "                if M[i] == [0.0]*row:\n",
    "                    return(print('Matrix is singular'))\n",
    "                if full==True:\n",
    "                    print(M)            \n",
    "            if (step+1)%row>0:\n",
    "                if full==True:\n",
    "                    print('Swap row 0 with row {}'.format((step+1)%row))\n",
    "                swap(M, 0, (step+1)%row)\n",
    "                swap(Inv, 0, (step+1)%row)\n",
    "            if full==True:\n",
    "                print(M)\n",
    "        check = []\n",
    "        for i in range(row):\n",
    "            check.append(sum(M[i]))\n",
    "        if sum(check) != row:\n",
    "            print('Matrix is singular')\n",
    "        else:\n",
    "            for i in range(row):\n",
    "                for j in range(col):\n",
    "                    M[i][j] = round(M[i][j]) # floating point correction\n",
    "            order = []\n",
    "            for i in range(row):\n",
    "                temp = M[i] #list of elements in col\n",
    "                swap_index = first_nonzero_index(temp) # col number of nonzero\n",
    "                order.append(swap_index)\n",
    "            # initiate bubble sort to swap rows to echelon form\n",
    "            swapped = True\n",
    "            while swapped:\n",
    "                swapped = False\n",
    "                for i in range(row -1):\n",
    "                    if order[i] > order[i+1]:\n",
    "                        swap(M, i, i+1)\n",
    "                        swap(Inv, i, i+1)\n",
    "                        swap(order, i, i+1)\n",
    "                        swapped = True# Set the flag to True to restart loop\n",
    "            return Inv"
   ]
  },
  {
   "cell_type": "code",
   "execution_count": 11,
   "metadata": {},
   "outputs": [
    {
     "name": "stdout",
     "output_type": "stream",
     "text": [
      "Matrix is singular\n"
     ]
    }
   ],
   "source": [
    "Gauss_elim(SM)"
   ]
  },
  {
   "cell_type": "code",
   "execution_count": 12,
   "metadata": {},
   "outputs": [
    {
     "data": {
      "text/plain": [
       "[[49.3611109, -13.5555564, 2.1111109],\n",
       " [-13.5555555, 3.777778, -0.5555555],\n",
       " [2.1111111, -0.5555556, 0.1111111]]"
      ]
     },
     "execution_count": 12,
     "metadata": {},
     "output_type": "execute_result"
    }
   ],
   "source": [
    "Gauss_elim(A)"
   ]
  },
  {
   "cell_type": "code",
   "execution_count": 10,
   "metadata": {},
   "outputs": [
    {
     "data": {
      "text/plain": [
       "[[1.0, 0.0, 0.0], [0.0, 1.0, 0.0], [0.0, 0.0, 1.0]]"
      ]
     },
     "execution_count": 10,
     "metadata": {},
     "output_type": "execute_result"
    }
   ],
   "source": [
    "Gauss_elim(I)"
   ]
  },
  {
   "cell_type": "code",
   "execution_count": null,
   "metadata": {},
   "outputs": [],
   "source": []
  }
 ],
 "metadata": {
  "kernelspec": {
   "display_name": "Python 3",
   "language": "python",
   "name": "python3"
  },
  "language_info": {
   "codemirror_mode": {
    "name": "ipython",
    "version": 3
   },
   "file_extension": ".py",
   "mimetype": "text/x-python",
   "name": "python",
   "nbconvert_exporter": "python",
   "pygments_lexer": "ipython3",
   "version": "3.7.4"
  }
 },
 "nbformat": 4,
 "nbformat_minor": 2
}
